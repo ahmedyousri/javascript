{
 "cells": [
  {
   "cell_type": "code",
   "execution_count": 13,
   "metadata": {},
   "outputs": [
    {
     "name": "stdout",
     "output_type": "stream",
     "text": [
      "<class 'tuple'>\n",
      "('ahmed', 'ebrahim', 'yousri')\n",
      "('ahmed', 'ebrahim')\n",
      "<class 'list'>\n",
      "<class 'tuple'>\n"
     ]
    },
    {
     "data": {
      "text/plain": [
       "True"
      ]
     },
     "execution_count": 13,
     "metadata": {},
     "output_type": "execute_result"
    }
   ],
   "source": [
    "# tuple such as list but i can not change size or change element , we use () in tuple but in list [] ,\n",
    "namest=('ahmed','ebrahim', 'yousri')\n",
    "print(type(namest))\n",
    "print(namest)\n",
    "print((namest[:2]))\n",
    "#just read datatpe of it\n",
    "# we can create new tuple by add two tub\n",
    "namest=namest+namest\n",
    "namest=list(namest)\n",
    "print(type(namest))\n",
    "namest=tuple(namest)\n",
    "print(type(namest))\n",
    "'ahmed' in namest\n",
    "\n",
    "\n",
    "\n",
    "\n"
   ]
  },
  {
   "cell_type": "code",
   "execution_count": null,
   "metadata": {
    "collapsed": true
   },
   "outputs": [],
   "source": []
  },
  {
   "cell_type": "code",
   "execution_count": null,
   "metadata": {
    "collapsed": true
   },
   "outputs": [],
   "source": []
  }
 ],
 "metadata": {
  "kernelspec": {
   "display_name": "Python 3",
   "language": "python",
   "name": "python3"
  },
  "language_info": {
   "codemirror_mode": {
    "name": "ipython",
    "version": 3
   },
   "file_extension": ".py",
   "mimetype": "text/x-python",
   "name": "python",
   "nbconvert_exporter": "python",
   "pygments_lexer": "ipython3",
   "version": "3.5.3"
  }
 },
 "nbformat": 4,
 "nbformat_minor": 2
}
